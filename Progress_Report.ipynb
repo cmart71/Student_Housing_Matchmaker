{
 "cells": [
  {
   "cell_type": "markdown",
   "metadata": {},
   "source": [
    "# Student Housing Matchmaker Progress Report\n",
    "CS 418 Spring 2025"
   ]
  },
  {
   "cell_type": "markdown",
   "metadata": {},
   "source": [
    "# Project Introduction"
   ]
  },
  {
   "cell_type": "markdown",
   "metadata": {},
   "source": [
    "# Any changes since the proposal\n"
   ]
  },
  {
   "cell_type": "markdown",
   "metadata": {},
   "source": [
    "1. The data for colleges was updated to just handle Chicago colleges. Originally the data included all colleges within Illinois, but was cleaned to soley just include Chicago colleges. This left us with only 70 Chicago colleges to work with."
   ]
  },
  {
   "cell_type": "markdown",
   "metadata": {},
   "source": [
    "# Data"
   ]
  },
  {
   "cell_type": "markdown",
   "metadata": {},
   "source": [
    "**Colleges dataset**: The data for colleges was updated to just handle Chicago colleges. Originally the data included all colleges within Illinois, but was cleaned to soley just include Chicago colleges. This left us with only 70 Chicago colleges to work with. After filtering to just include Chicago colleges, the dataset was cleaned to just include the important columns needed for our project, which is just to include Name and Address of the Chicago college.\n",
    "\n"
   ]
  },
  {
   "attachments": {},
   "cell_type": "markdown",
   "metadata": {},
   "source": [
    "# Exploratory Data Analysis"
   ]
  },
  {
   "cell_type": "code",
   "execution_count": 12,
   "metadata": {},
   "outputs": [],
   "source": [
    "import pandas as pd"
   ]
  },
  {
   "cell_type": "code",
   "execution_count": 61,
   "metadata": {},
   "outputs": [
    {
     "name": "stdout",
     "output_type": "stream",
     "text": [
      "Original database containing total Illinois Universities: 249\n"
     ]
    }
   ],
   "source": [
    "il_colleges_df = pd.read_csv(\"CollegeNavigator_Search_2025-03-03.csv\")\n",
    "print(f\"Original database containing total Illinois Universities: {len(il_colleges_df)}\")"
   ]
  },
  {
   "cell_type": "code",
   "execution_count": 63,
   "metadata": {},
   "outputs": [
    {
     "data": {
      "text/html": [
       "<div>\n",
       "<style scoped>\n",
       "    .dataframe tbody tr th:only-of-type {\n",
       "        vertical-align: middle;\n",
       "    }\n",
       "\n",
       "    .dataframe tbody tr th {\n",
       "        vertical-align: top;\n",
       "    }\n",
       "\n",
       "    .dataframe thead th {\n",
       "        text-align: right;\n",
       "    }\n",
       "</style>\n",
       "<table border=\"1\" class=\"dataframe\">\n",
       "  <thead>\n",
       "    <tr style=\"text-align: right;\">\n",
       "      <th></th>\n",
       "      <th>Name</th>\n",
       "      <th>Address</th>\n",
       "    </tr>\n",
       "  </thead>\n",
       "  <tbody>\n",
       "    <tr>\n",
       "      <th>0</th>\n",
       "      <td>Adler University</td>\n",
       "      <td>17 North Dearborn Street, Chicago, Illinois 60602</td>\n",
       "    </tr>\n",
       "    <tr>\n",
       "      <th>1</th>\n",
       "      <td>American Academy of Art College</td>\n",
       "      <td>332 S Michigan Ave, Chicago, Illinois 60604-4302</td>\n",
       "    </tr>\n",
       "    <tr>\n",
       "      <th>2</th>\n",
       "      <td>American Islamic College</td>\n",
       "      <td>640 W Irving Park RD, Chicago, Illinois 60613</td>\n",
       "    </tr>\n",
       "    <tr>\n",
       "      <th>3</th>\n",
       "      <td>Aveda Institute-Chicago</td>\n",
       "      <td>2828 N Clark St, Chicago, Illinois 60657</td>\n",
       "    </tr>\n",
       "    <tr>\n",
       "      <th>4</th>\n",
       "      <td>Aviation Institute of Maintenance-Chicago</td>\n",
       "      <td>3711 South Ashland Avenue, Chicago, Illinois 6...</td>\n",
       "    </tr>\n",
       "    <tr>\n",
       "      <th>...</th>\n",
       "      <td>...</td>\n",
       "      <td>...</td>\n",
       "    </tr>\n",
       "    <tr>\n",
       "      <th>65</th>\n",
       "      <td>University of Illinois Chicago</td>\n",
       "      <td>601 S Morgan, Chicago, Illinois 60607</td>\n",
       "    </tr>\n",
       "    <tr>\n",
       "      <th>66</th>\n",
       "      <td>University of Notre Dame -</td>\n",
       "      <td>224 South Michigan Avenue, Chicago, Illinois 6...</td>\n",
       "    </tr>\n",
       "    <tr>\n",
       "      <th>67</th>\n",
       "      <td>VanderCook College of Music</td>\n",
       "      <td>3140 South Federal Street, Chicago, Illinois 6...</td>\n",
       "    </tr>\n",
       "    <tr>\n",
       "      <th>68</th>\n",
       "      <td>Prairie State College</td>\n",
       "      <td>202 South Halsted Street, Chicago Heights, Ill...</td>\n",
       "    </tr>\n",
       "    <tr>\n",
       "      <th>69</th>\n",
       "      <td>Rosalind Franklin University of Medicine and S...</td>\n",
       "      <td>3333 Green Bay Road, North Chicago, Illinois 6...</td>\n",
       "    </tr>\n",
       "  </tbody>\n",
       "</table>\n",
       "<p>70 rows × 2 columns</p>\n",
       "</div>"
      ],
      "text/plain": [
       "                                                 Name  \\\n",
       "0                                    Adler University   \n",
       "1                     American Academy of Art College   \n",
       "2                            American Islamic College   \n",
       "3                             Aveda Institute-Chicago   \n",
       "4           Aviation Institute of Maintenance-Chicago   \n",
       "..                                                ...   \n",
       "65                     University of Illinois Chicago   \n",
       "66                         University of Notre Dame -   \n",
       "67                        VanderCook College of Music   \n",
       "68                              Prairie State College   \n",
       "69  Rosalind Franklin University of Medicine and S...   \n",
       "\n",
       "                                              Address  \n",
       "0   17 North Dearborn Street, Chicago, Illinois 60602  \n",
       "1    332 S Michigan Ave, Chicago, Illinois 60604-4302  \n",
       "2       640 W Irving Park RD, Chicago, Illinois 60613  \n",
       "3            2828 N Clark St, Chicago, Illinois 60657  \n",
       "4   3711 South Ashland Avenue, Chicago, Illinois 6...  \n",
       "..                                                ...  \n",
       "65              601 S Morgan, Chicago, Illinois 60607  \n",
       "66  224 South Michigan Avenue, Chicago, Illinois 6...  \n",
       "67  3140 South Federal Street, Chicago, Illinois 6...  \n",
       "68  202 South Halsted Street, Chicago Heights, Ill...  \n",
       "69  3333 Green Bay Road, North Chicago, Illinois 6...  \n",
       "\n",
       "[70 rows x 2 columns]"
      ]
     },
     "execution_count": 63,
     "metadata": {},
     "output_type": "execute_result"
    }
   ],
   "source": [
    "chicago_colleges_df = il_colleges_df[il_colleges_df['Address'].str.contains('Chicago', case=False, na=False)]\n",
    "chicago_cleaned = chicago_colleges_df[['Name', 'Address']].reset_index(drop=True)\n",
    "chicago_cleaned"
   ]
  },
  {
   "cell_type": "code",
   "execution_count": 59,
   "metadata": {},
   "outputs": [
    {
     "name": "stdout",
     "output_type": "stream",
     "text": [
      "Updated/Cleaned database containing total Chicago universities: 70\n"
     ]
    }
   ],
   "source": [
    "print(f\"Updated/Cleaned database containing total Chicago universities: {len(chicago_universities_df)}\")"
   ]
  },
  {
   "cell_type": "markdown",
   "metadata": {},
   "source": [
    "# Visualizations"
   ]
  },
  {
   "cell_type": "markdown",
   "metadata": {},
   "source": [
    "# ML Analyses\n"
   ]
  },
  {
   "cell_type": "markdown",
   "metadata": {},
   "source": [
    "# Reflection"
   ]
  }
 ],
 "metadata": {
  "kernelspec": {
   "display_name": "Python [conda env:base] *",
   "language": "python",
   "name": "conda-base-py"
  },
  "language_info": {
   "codemirror_mode": {
    "name": "ipython",
    "version": 3
   },
   "file_extension": ".py",
   "mimetype": "text/x-python",
   "name": "python",
   "nbconvert_exporter": "python",
   "pygments_lexer": "ipython3",
   "version": "3.12.7"
  }
 },
 "nbformat": 4,
 "nbformat_minor": 4
}
