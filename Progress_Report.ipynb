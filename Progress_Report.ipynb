{
 "cells": [
  {
   "cell_type": "markdown",
   "metadata": {},
   "source": [
    "# Student Housing Matchmaker Progress Report\n",
    "CS 418 Spring 2025"
   ]
  },
  {
   "cell_type": "markdown",
   "metadata": {},
   "source": [
    "# Project Introduction"
   ]
  },
  {
   "cell_type": "markdown",
   "metadata": {},
   "source": [
    "# Any changes since the proposal\n"
   ]
  },
  {
   "cell_type": "markdown",
   "metadata": {},
   "source": [
    "1. The data for colleges was updated to just handle Chicago colleges. Originally the data included all colleges within Illinois, but was cleaned to soley just include Chicago colleges. This left us with only 70 Chicago colleges to work with."
   ]
  },
  {
   "cell_type": "markdown",
   "metadata": {},
   "source": [
    "# Data"
   ]
  },
  {
   "cell_type": "markdown",
   "metadata": {},
   "source": [
    "**Colleges dataset**: The data for colleges was updated to just handle Chicago colleges. Originally the data included all colleges within Illinois, but was cleaned to soley just include Chicago colleges. This left us with only 70 Chicago colleges to work with. After filtering to just include Chicago colleges, the dataset was cleaned to just include the important columns needed for our project, which is just to include Name and Address of the Chicago college. (chicago_colleges_df)\n",
    "\n",
    "**Chicago Rentals dataset**: The data for rentals was updated to include important columns like ['Price', 'Address', 'Listing URL', 'Short Address', 'Zip', 'Beds', 'Baths', 'Raw Property Details', 'Latitude', 'Longitude']. Then updated NaN values for Baths to 1.0. Noticed there were some undisclosed addresses. Since our goal is to provide students with apartment details, these were removed after noticing there were 70 rows that contained 'undisclosed Address'. Made sure baths and beds were in floats to maintain readability. (chicago_rentals_df)\n",
    "\n",
    "**CTA Train dataset**: "
   ]
  },
  {
   "attachments": {},
   "cell_type": "markdown",
   "metadata": {},
   "source": [
    "# Exploratory Data Analysis"
   ]
  },
  {
   "cell_type": "code",
   "execution_count": 87,
   "metadata": {},
   "outputs": [],
   "source": [
    "import pandas as pd\n",
    "import numpy as np"
   ]
  },
  {
   "cell_type": "code",
   "execution_count": 61,
   "metadata": {},
   "outputs": [
    {
     "name": "stdout",
     "output_type": "stream",
     "text": [
      "Original database containing total Illinois Universities: 249\n"
     ]
    }
   ],
   "source": [
    "il_colleges_df = pd.read_csv(\"CollegeNavigator_Search_2025-03-03.csv\")\n",
    "print(f\"Original database containing total Illinois Universities: {len(il_colleges_df)}\")"
   ]
  },
  {
   "cell_type": "code",
   "execution_count": 128,
   "metadata": {},
   "outputs": [
    {
     "data": {
      "text/html": [
       "<div>\n",
       "<style scoped>\n",
       "    .dataframe tbody tr th:only-of-type {\n",
       "        vertical-align: middle;\n",
       "    }\n",
       "\n",
       "    .dataframe tbody tr th {\n",
       "        vertical-align: top;\n",
       "    }\n",
       "\n",
       "    .dataframe thead th {\n",
       "        text-align: right;\n",
       "    }\n",
       "</style>\n",
       "<table border=\"1\" class=\"dataframe\">\n",
       "  <thead>\n",
       "    <tr style=\"text-align: right;\">\n",
       "      <th></th>\n",
       "      <th>Name</th>\n",
       "      <th>Address</th>\n",
       "    </tr>\n",
       "  </thead>\n",
       "  <tbody>\n",
       "    <tr>\n",
       "      <th>0</th>\n",
       "      <td>Adler University</td>\n",
       "      <td>17 North Dearborn Street, Chicago, Illinois 60602</td>\n",
       "    </tr>\n",
       "    <tr>\n",
       "      <th>1</th>\n",
       "      <td>American Academy of Art College</td>\n",
       "      <td>332 S Michigan Ave, Chicago, Illinois 60604-4302</td>\n",
       "    </tr>\n",
       "    <tr>\n",
       "      <th>2</th>\n",
       "      <td>American Islamic College</td>\n",
       "      <td>640 W Irving Park RD, Chicago, Illinois 60613</td>\n",
       "    </tr>\n",
       "    <tr>\n",
       "      <th>3</th>\n",
       "      <td>Aveda Institute-Chicago</td>\n",
       "      <td>2828 N Clark St, Chicago, Illinois 60657</td>\n",
       "    </tr>\n",
       "    <tr>\n",
       "      <th>4</th>\n",
       "      <td>Aviation Institute of Maintenance-Chicago</td>\n",
       "      <td>3711 South Ashland Avenue, Chicago, Illinois 6...</td>\n",
       "    </tr>\n",
       "    <tr>\n",
       "      <th>...</th>\n",
       "      <td>...</td>\n",
       "      <td>...</td>\n",
       "    </tr>\n",
       "    <tr>\n",
       "      <th>65</th>\n",
       "      <td>University of Illinois Chicago</td>\n",
       "      <td>601 S Morgan, Chicago, Illinois 60607</td>\n",
       "    </tr>\n",
       "    <tr>\n",
       "      <th>66</th>\n",
       "      <td>University of Notre Dame -</td>\n",
       "      <td>224 South Michigan Avenue, Chicago, Illinois 6...</td>\n",
       "    </tr>\n",
       "    <tr>\n",
       "      <th>67</th>\n",
       "      <td>VanderCook College of Music</td>\n",
       "      <td>3140 South Federal Street, Chicago, Illinois 6...</td>\n",
       "    </tr>\n",
       "    <tr>\n",
       "      <th>68</th>\n",
       "      <td>Prairie State College</td>\n",
       "      <td>202 South Halsted Street, Chicago Heights, Ill...</td>\n",
       "    </tr>\n",
       "    <tr>\n",
       "      <th>69</th>\n",
       "      <td>Rosalind Franklin University of Medicine and S...</td>\n",
       "      <td>3333 Green Bay Road, North Chicago, Illinois 6...</td>\n",
       "    </tr>\n",
       "  </tbody>\n",
       "</table>\n",
       "<p>70 rows × 2 columns</p>\n",
       "</div>"
      ],
      "text/plain": [
       "                                                 Name  \\\n",
       "0                                    Adler University   \n",
       "1                     American Academy of Art College   \n",
       "2                            American Islamic College   \n",
       "3                             Aveda Institute-Chicago   \n",
       "4           Aviation Institute of Maintenance-Chicago   \n",
       "..                                                ...   \n",
       "65                     University of Illinois Chicago   \n",
       "66                         University of Notre Dame -   \n",
       "67                        VanderCook College of Music   \n",
       "68                              Prairie State College   \n",
       "69  Rosalind Franklin University of Medicine and S...   \n",
       "\n",
       "                                              Address  \n",
       "0   17 North Dearborn Street, Chicago, Illinois 60602  \n",
       "1    332 S Michigan Ave, Chicago, Illinois 60604-4302  \n",
       "2       640 W Irving Park RD, Chicago, Illinois 60613  \n",
       "3            2828 N Clark St, Chicago, Illinois 60657  \n",
       "4   3711 South Ashland Avenue, Chicago, Illinois 6...  \n",
       "..                                                ...  \n",
       "65              601 S Morgan, Chicago, Illinois 60607  \n",
       "66  224 South Michigan Avenue, Chicago, Illinois 6...  \n",
       "67  3140 South Federal Street, Chicago, Illinois 6...  \n",
       "68  202 South Halsted Street, Chicago Heights, Ill...  \n",
       "69  3333 Green Bay Road, North Chicago, Illinois 6...  \n",
       "\n",
       "[70 rows x 2 columns]"
      ]
     },
     "execution_count": 128,
     "metadata": {},
     "output_type": "execute_result"
    }
   ],
   "source": [
    "chicago_colleges_df = il_colleges_df[il_colleges_df['Address'].str.contains('Chicago', case=False, na=False)]\n",
    "chicago_colleges_df = chicago_colleges_df[['Name', 'Address']].reset_index(drop=True)\n",
    "chicago_colleges_df"
   ]
  },
  {
   "cell_type": "code",
   "execution_count": 59,
   "metadata": {},
   "outputs": [
    {
     "name": "stdout",
     "output_type": "stream",
     "text": [
      "Updated/Cleaned database containing total Chicago universities: 70\n"
     ]
    }
   ],
   "source": [
    "print(f\"Updated/Cleaned database containing total Chicago universities: {len(chicago_universities_df)}\")"
   ]
  },
  {
   "cell_type": "code",
   "execution_count": 162,
   "metadata": {},
   "outputs": [],
   "source": [
    "chicago_rentals_df = pd.read_csv(\"Zillow Rental (Chicago Area 03_03_2025).csv\")\n",
    "chicago_rentals_df = chicago_rentals_df[['Price', 'Address', 'Listing URL', 'Short Address', 'Zip', 'Beds', 'Baths', 'Raw Property Details', 'Latitude', 'Longitude']].reset_index(drop=True)"
   ]
  },
  {
   "cell_type": "code",
   "execution_count": 164,
   "metadata": {},
   "outputs": [],
   "source": [
    "# Keep Beds and Baths as floats, cleaned NaN baths\n",
    "chicago_rentals_df['Baths'] = chicago_rentals_df['Baths'].fillna(1)\n",
    "chicago_rentals_df['Beds'] = chicago_rentals_df['Beds'].astype(float)"
   ]
  },
  {
   "cell_type": "code",
   "execution_count": 166,
   "metadata": {},
   "outputs": [
    {
     "name": "stdout",
     "output_type": "stream",
     "text": [
      "Undisclosed address count: 70\n"
     ]
    }
   ],
   "source": [
    "undisclosed_count = chicago_rentals_df[chicago_rentals_df['Short Address'] == '(undisclosed Address)'].shape[0]\n",
    "print(f\"Undisclosed address count: {undisclosed_count}\")"
   ]
  },
  {
   "cell_type": "code",
   "execution_count": 168,
   "metadata": {},
   "outputs": [
    {
     "data": {
      "text/html": [
       "<div>\n",
       "<style scoped>\n",
       "    .dataframe tbody tr th:only-of-type {\n",
       "        vertical-align: middle;\n",
       "    }\n",
       "\n",
       "    .dataframe tbody tr th {\n",
       "        vertical-align: top;\n",
       "    }\n",
       "\n",
       "    .dataframe thead th {\n",
       "        text-align: right;\n",
       "    }\n",
       "</style>\n",
       "<table border=\"1\" class=\"dataframe\">\n",
       "  <thead>\n",
       "    <tr style=\"text-align: right;\">\n",
       "      <th></th>\n",
       "      <th>Price</th>\n",
       "      <th>Address</th>\n",
       "      <th>Listing URL</th>\n",
       "      <th>Short Address</th>\n",
       "      <th>Zip</th>\n",
       "      <th>Beds</th>\n",
       "      <th>Baths</th>\n",
       "      <th>Raw Property Details</th>\n",
       "      <th>Latitude</th>\n",
       "      <th>Longitude</th>\n",
       "    </tr>\n",
       "  </thead>\n",
       "  <tbody>\n",
       "    <tr>\n",
       "      <th>0</th>\n",
       "      <td>$532</td>\n",
       "      <td>4713 N Western Ave, Chicago, IL 60625</td>\n",
       "      <td>https://zillow.com//apartments/chicago-il/canv...</td>\n",
       "      <td>4713 N  Western Ave # 302</td>\n",
       "      <td>60625</td>\n",
       "      <td>0.0</td>\n",
       "      <td>1.0</td>\n",
       "      <td>Studio</td>\n",
       "      <td>41.967130</td>\n",
       "      <td>-87.688545</td>\n",
       "    </tr>\n",
       "    <tr>\n",
       "      <th>1</th>\n",
       "      <td>$600</td>\n",
       "      <td>6340 S Eberhart Ave #1, Chicago, IL 60637</td>\n",
       "      <td>https://www.zillow.com/homedetails/6340-S-Eber...</td>\n",
       "      <td>6340 S Eberhart Ave #1</td>\n",
       "      <td>60637</td>\n",
       "      <td>3.0</td>\n",
       "      <td>1.0</td>\n",
       "      <td>3 bds | 1 ba | 1000 sqft</td>\n",
       "      <td>41.779083</td>\n",
       "      <td>-87.613525</td>\n",
       "    </tr>\n",
       "    <tr>\n",
       "      <th>2</th>\n",
       "      <td>$639</td>\n",
       "      <td>Ferdinand, 5412 W Ferdinand St, Chicago, IL 60644</td>\n",
       "      <td>https://www.zillow.com/apartments/chicago-il/f...</td>\n",
       "      <td>5412 W Ferdinand St #573B2222C</td>\n",
       "      <td>60644</td>\n",
       "      <td>0.0</td>\n",
       "      <td>1.0</td>\n",
       "      <td>Studio | 1 ba | 400 sqft</td>\n",
       "      <td>41.889187</td>\n",
       "      <td>-87.761024</td>\n",
       "    </tr>\n",
       "    <tr>\n",
       "      <th>3</th>\n",
       "      <td>$650</td>\n",
       "      <td>6115 S Drexel Ave #1, Chicago, IL 60637</td>\n",
       "      <td>https://www.zillow.com/homedetails/6115-S-Drex...</td>\n",
       "      <td>6115 S Drexel Ave #1</td>\n",
       "      <td>60637</td>\n",
       "      <td>1.0</td>\n",
       "      <td>1.0</td>\n",
       "      <td>1 bds | 1 ba</td>\n",
       "      <td>41.783596</td>\n",
       "      <td>-87.603920</td>\n",
       "    </tr>\n",
       "    <tr>\n",
       "      <th>4</th>\n",
       "      <td>$650</td>\n",
       "      <td>158 N Central Ave, Chicago, IL 60644</td>\n",
       "      <td>https://www.zillow.com/homedetails/158-N-Centr...</td>\n",
       "      <td>158 N Central Ave</td>\n",
       "      <td>60644</td>\n",
       "      <td>0.0</td>\n",
       "      <td>1.0</td>\n",
       "      <td>Studio | 1 ba</td>\n",
       "      <td>41.883904</td>\n",
       "      <td>-87.765465</td>\n",
       "    </tr>\n",
       "    <tr>\n",
       "      <th>...</th>\n",
       "      <td>...</td>\n",
       "      <td>...</td>\n",
       "      <td>...</td>\n",
       "      <td>...</td>\n",
       "      <td>...</td>\n",
       "      <td>...</td>\n",
       "      <td>...</td>\n",
       "      <td>...</td>\n",
       "      <td>...</td>\n",
       "      <td>...</td>\n",
       "    </tr>\n",
       "    <tr>\n",
       "      <th>2726</th>\n",
       "      <td>$1,750</td>\n",
       "      <td>4056 N Leamington Ave #2R, Chicago, IL 60641</td>\n",
       "      <td>https://www.zillow.com/homedetails/4056-N-Leam...</td>\n",
       "      <td>4056 N Leamington Ave #2R</td>\n",
       "      <td>60641</td>\n",
       "      <td>1.0</td>\n",
       "      <td>1.0</td>\n",
       "      <td>1 bds | 1 ba | 900 sqft</td>\n",
       "      <td>41.954990</td>\n",
       "      <td>-87.756325</td>\n",
       "    </tr>\n",
       "    <tr>\n",
       "      <th>2727</th>\n",
       "      <td>$1,750</td>\n",
       "      <td>3903 W Belden Ave #2, Chicago, IL 60647</td>\n",
       "      <td>https://www.zillow.com/homedetails/3903-W-Beld...</td>\n",
       "      <td>3903 W Belden Ave #2</td>\n",
       "      <td>60647</td>\n",
       "      <td>2.0</td>\n",
       "      <td>1.0</td>\n",
       "      <td>2 bds | 1 ba | 700 sqft</td>\n",
       "      <td>41.922546</td>\n",
       "      <td>-87.724594</td>\n",
       "    </tr>\n",
       "    <tr>\n",
       "      <th>2728</th>\n",
       "      <td>$1,750</td>\n",
       "      <td>5123 S Indiana Ave #3, Chicago, IL 60615</td>\n",
       "      <td>https://www.zillow.com/homedetails/5123-S-Indi...</td>\n",
       "      <td>5123 S Indiana Ave #3</td>\n",
       "      <td>60615</td>\n",
       "      <td>3.0</td>\n",
       "      <td>1.0</td>\n",
       "      <td>3 bds | 1 ba | 1500 sqft</td>\n",
       "      <td>41.801254</td>\n",
       "      <td>-87.620570</td>\n",
       "    </tr>\n",
       "    <tr>\n",
       "      <th>2729</th>\n",
       "      <td>$1,750</td>\n",
       "      <td>2653 N Harding Ave, Chicago, IL 60647</td>\n",
       "      <td>https://www.zillow.com/homedetails/2653-N-Hard...</td>\n",
       "      <td>2653 N Harding Ave</td>\n",
       "      <td>60647</td>\n",
       "      <td>2.0</td>\n",
       "      <td>1.0</td>\n",
       "      <td>2 bds | 1 ba</td>\n",
       "      <td>41.929714</td>\n",
       "      <td>-87.725480</td>\n",
       "    </tr>\n",
       "    <tr>\n",
       "      <th>2730</th>\n",
       "      <td>$1,750</td>\n",
       "      <td>649 E Marquette Rd, Chicago, IL 60637</td>\n",
       "      <td>https://zillow.com//b/marquette-649-e-chicago-...</td>\n",
       "      <td>649 E  Marquette Rd   Apt 3</td>\n",
       "      <td>60637</td>\n",
       "      <td>4.0</td>\n",
       "      <td>1.0</td>\n",
       "      <td>4 bds</td>\n",
       "      <td>41.774788</td>\n",
       "      <td>-87.608600</td>\n",
       "    </tr>\n",
       "  </tbody>\n",
       "</table>\n",
       "<p>2731 rows × 10 columns</p>\n",
       "</div>"
      ],
      "text/plain": [
       "        Price                                            Address  \\\n",
       "0       $532               4713 N Western Ave, Chicago, IL 60625   \n",
       "1       $600           6340 S Eberhart Ave #1, Chicago, IL 60637   \n",
       "2       $639   Ferdinand, 5412 W Ferdinand St, Chicago, IL 60644   \n",
       "3       $650             6115 S Drexel Ave #1, Chicago, IL 60637   \n",
       "4       $650                158 N Central Ave, Chicago, IL 60644   \n",
       "...       ...                                                ...   \n",
       "2726  $1,750        4056 N Leamington Ave #2R, Chicago, IL 60641   \n",
       "2727  $1,750             3903 W Belden Ave #2, Chicago, IL 60647   \n",
       "2728  $1,750            5123 S Indiana Ave #3, Chicago, IL 60615   \n",
       "2729  $1,750               2653 N Harding Ave, Chicago, IL 60647   \n",
       "2730  $1,750               649 E Marquette Rd, Chicago, IL 60637   \n",
       "\n",
       "                                            Listing URL  \\\n",
       "0     https://zillow.com//apartments/chicago-il/canv...   \n",
       "1     https://www.zillow.com/homedetails/6340-S-Eber...   \n",
       "2     https://www.zillow.com/apartments/chicago-il/f...   \n",
       "3     https://www.zillow.com/homedetails/6115-S-Drex...   \n",
       "4     https://www.zillow.com/homedetails/158-N-Centr...   \n",
       "...                                                 ...   \n",
       "2726  https://www.zillow.com/homedetails/4056-N-Leam...   \n",
       "2727  https://www.zillow.com/homedetails/3903-W-Beld...   \n",
       "2728  https://www.zillow.com/homedetails/5123-S-Indi...   \n",
       "2729  https://www.zillow.com/homedetails/2653-N-Hard...   \n",
       "2730  https://zillow.com//b/marquette-649-e-chicago-...   \n",
       "\n",
       "                       Short Address    Zip  Beds  Baths  \\\n",
       "0          4713 N  Western Ave # 302  60625   0.0    1.0   \n",
       "1             6340 S Eberhart Ave #1  60637   3.0    1.0   \n",
       "2     5412 W Ferdinand St #573B2222C  60644   0.0    1.0   \n",
       "3               6115 S Drexel Ave #1  60637   1.0    1.0   \n",
       "4                  158 N Central Ave  60644   0.0    1.0   \n",
       "...                              ...    ...   ...    ...   \n",
       "2726       4056 N Leamington Ave #2R  60641   1.0    1.0   \n",
       "2727            3903 W Belden Ave #2  60647   2.0    1.0   \n",
       "2728           5123 S Indiana Ave #3  60615   3.0    1.0   \n",
       "2729              2653 N Harding Ave  60647   2.0    1.0   \n",
       "2730     649 E  Marquette Rd   Apt 3  60637   4.0    1.0   \n",
       "\n",
       "          Raw Property Details   Latitude  Longitude  \n",
       "0                      Studio   41.967130 -87.688545  \n",
       "1     3 bds | 1 ba | 1000 sqft  41.779083 -87.613525  \n",
       "2     Studio | 1 ba | 400 sqft  41.889187 -87.761024  \n",
       "3                1 bds | 1 ba   41.783596 -87.603920  \n",
       "4               Studio | 1 ba   41.883904 -87.765465  \n",
       "...                        ...        ...        ...  \n",
       "2726   1 bds | 1 ba | 900 sqft  41.954990 -87.756325  \n",
       "2727   2 bds | 1 ba | 700 sqft  41.922546 -87.724594  \n",
       "2728  3 bds | 1 ba | 1500 sqft  41.801254 -87.620570  \n",
       "2729             2 bds | 1 ba   41.929714 -87.725480  \n",
       "2730                    4 bds   41.774788 -87.608600  \n",
       "\n",
       "[2731 rows x 10 columns]"
      ]
     },
     "execution_count": 168,
     "metadata": {},
     "output_type": "execute_result"
    }
   ],
   "source": [
    "# Dropped undisclosed Address from database so left with 2731 rows.\n",
    "chicago_rentals_df = chicago_rentals_df[chicago_rentals_df['Short Address'] != '(undisclosed Address)'].reset_index(drop=True)\n",
    "chicago_rentals_df"
   ]
  },
  {
   "cell_type": "markdown",
   "metadata": {
    "jp-MarkdownHeadingCollapsed": true
   },
   "source": [
    "# Visualizations"
   ]
  },
  {
   "cell_type": "markdown",
   "metadata": {
    "jp-MarkdownHeadingCollapsed": true
   },
   "source": [
    "# ML Analyses\n"
   ]
  },
  {
   "cell_type": "markdown",
   "metadata": {},
   "source": [
    "# Reflection"
   ]
  }
 ],
 "metadata": {
  "kernelspec": {
   "display_name": "Python [conda env:base] *",
   "language": "python",
   "name": "conda-base-py"
  },
  "language_info": {
   "codemirror_mode": {
    "name": "ipython",
    "version": 3
   },
   "file_extension": ".py",
   "mimetype": "text/x-python",
   "name": "python",
   "nbconvert_exporter": "python",
   "pygments_lexer": "ipython3",
   "version": "3.12.7"
  }
 },
 "nbformat": 4,
 "nbformat_minor": 4
}
