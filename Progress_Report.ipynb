{
 "cells": [
  {
   "cell_type": "markdown",
   "metadata": {},
   "source": [
    "# Student Housing Matchmaker Progress Report\n",
    "CS 418 Spring 2025"
   ]
  },
  {
   "cell_type": "markdown",
   "metadata": {},
   "source": [
    "# Project Introduction"
   ]
  },
  {
   "cell_type": "markdown",
   "metadata": {},
   "source": [
    "# Any changes since the proposal\n"
   ]
  },
  {
   "cell_type": "markdown",
   "metadata": {},
   "source": [
    "1. The data for colleges was updated to just handle Chicago colleges. Originally the data included all colleges within Illinois, but was cleaned to soley just include Chicago colleges. This left us with only 70 Chicago colleges to work with.\n",
    "2. Completed and found the datasets that were needed. During our proposal the CTA datasets were missing. Since then the CTA bus routes and CTA train routes are now included for our project.\n",
    "3. Many datasets were filtered during data wrangling to contain just the neccessary columns needed. Made the decision to change NaN values found within the Chicago Rentals dataset to 1.0 within baths column as each address contained at least 1 bathroom.\n",
    "4. Any TRUE/FALSE values found within CTA train routes dataset and changed to type int (1/0)."
   ]
  },
  {
   "cell_type": "markdown",
   "metadata": {},
   "source": [
    "# Data"
   ]
  },
  {
   "cell_type": "markdown",
   "metadata": {},
   "source": [
    "**Colleges dataset**: The data for colleges was updated to just handle Chicago colleges. Originally the data included all colleges within Illinois, but was cleaned to soley just include Chicago colleges. This left us with only 70 Chicago colleges to work with. After filtering to just include Chicago colleges, the dataset was cleaned to just include the important columns needed for our project, which is just to include Name and Address of the Chicago college. (chicago_colleges_df)"
   ]
  },
  {
   "cell_type": "code",
   "execution_count": 16,
   "metadata": {},
   "outputs": [],
   "source": [
    "import pandas as pd\n",
    "import numpy as np\n",
    "import matplotlib.pyplot as plt\n",
    "import seaborn as sns"
   ]
  },
  {
   "cell_type": "code",
   "execution_count": 17,
   "metadata": {},
   "outputs": [
    {
     "name": "stdout",
     "output_type": "stream",
     "text": [
      "Original database containing total Illinois Universities: 249\n"
     ]
    }
   ],
   "source": [
    "il_colleges_df = pd.read_csv(\"CollegeNavigator_Search_2025-03-03.csv\")\n",
    "print(f\"Original database containing total Illinois Universities: {len(il_colleges_df)}\")"
   ]
  },
  {
   "cell_type": "code",
   "execution_count": 18,
   "metadata": {},
   "outputs": [
    {
     "data": {
      "text/html": [
       "<div>\n",
       "<style scoped>\n",
       "    .dataframe tbody tr th:only-of-type {\n",
       "        vertical-align: middle;\n",
       "    }\n",
       "\n",
       "    .dataframe tbody tr th {\n",
       "        vertical-align: top;\n",
       "    }\n",
       "\n",
       "    .dataframe thead th {\n",
       "        text-align: right;\n",
       "    }\n",
       "</style>\n",
       "<table border=\"1\" class=\"dataframe\">\n",
       "  <thead>\n",
       "    <tr style=\"text-align: right;\">\n",
       "      <th></th>\n",
       "      <th>Name</th>\n",
       "      <th>Address</th>\n",
       "    </tr>\n",
       "  </thead>\n",
       "  <tbody>\n",
       "    <tr>\n",
       "      <th>0</th>\n",
       "      <td>Adler University</td>\n",
       "      <td>17 North Dearborn Street, Chicago, Illinois 60602</td>\n",
       "    </tr>\n",
       "    <tr>\n",
       "      <th>1</th>\n",
       "      <td>American Academy of Art College</td>\n",
       "      <td>332 S Michigan Ave, Chicago, Illinois 60604-4302</td>\n",
       "    </tr>\n",
       "    <tr>\n",
       "      <th>2</th>\n",
       "      <td>American Islamic College</td>\n",
       "      <td>640 W Irving Park RD, Chicago, Illinois 60613</td>\n",
       "    </tr>\n",
       "    <tr>\n",
       "      <th>3</th>\n",
       "      <td>Aveda Institute-Chicago</td>\n",
       "      <td>2828 N Clark St, Chicago, Illinois 60657</td>\n",
       "    </tr>\n",
       "    <tr>\n",
       "      <th>4</th>\n",
       "      <td>Aviation Institute of Maintenance-Chicago</td>\n",
       "      <td>3711 South Ashland Avenue, Chicago, Illinois 6...</td>\n",
       "    </tr>\n",
       "    <tr>\n",
       "      <th>...</th>\n",
       "      <td>...</td>\n",
       "      <td>...</td>\n",
       "    </tr>\n",
       "    <tr>\n",
       "      <th>65</th>\n",
       "      <td>University of Illinois Chicago</td>\n",
       "      <td>601 S Morgan, Chicago, Illinois 60607</td>\n",
       "    </tr>\n",
       "    <tr>\n",
       "      <th>66</th>\n",
       "      <td>University of Notre Dame -</td>\n",
       "      <td>224 South Michigan Avenue, Chicago, Illinois 6...</td>\n",
       "    </tr>\n",
       "    <tr>\n",
       "      <th>67</th>\n",
       "      <td>VanderCook College of Music</td>\n",
       "      <td>3140 South Federal Street, Chicago, Illinois 6...</td>\n",
       "    </tr>\n",
       "    <tr>\n",
       "      <th>68</th>\n",
       "      <td>Prairie State College</td>\n",
       "      <td>202 South Halsted Street, Chicago Heights, Ill...</td>\n",
       "    </tr>\n",
       "    <tr>\n",
       "      <th>69</th>\n",
       "      <td>Rosalind Franklin University of Medicine and S...</td>\n",
       "      <td>3333 Green Bay Road, North Chicago, Illinois 6...</td>\n",
       "    </tr>\n",
       "  </tbody>\n",
       "</table>\n",
       "<p>70 rows × 2 columns</p>\n",
       "</div>"
      ],
      "text/plain": [
       "                                                 Name  \\\n",
       "0                                    Adler University   \n",
       "1                     American Academy of Art College   \n",
       "2                            American Islamic College   \n",
       "3                             Aveda Institute-Chicago   \n",
       "4           Aviation Institute of Maintenance-Chicago   \n",
       "..                                                ...   \n",
       "65                     University of Illinois Chicago   \n",
       "66                         University of Notre Dame -   \n",
       "67                        VanderCook College of Music   \n",
       "68                              Prairie State College   \n",
       "69  Rosalind Franklin University of Medicine and S...   \n",
       "\n",
       "                                              Address  \n",
       "0   17 North Dearborn Street, Chicago, Illinois 60602  \n",
       "1    332 S Michigan Ave, Chicago, Illinois 60604-4302  \n",
       "2       640 W Irving Park RD, Chicago, Illinois 60613  \n",
       "3            2828 N Clark St, Chicago, Illinois 60657  \n",
       "4   3711 South Ashland Avenue, Chicago, Illinois 6...  \n",
       "..                                                ...  \n",
       "65              601 S Morgan, Chicago, Illinois 60607  \n",
       "66  224 South Michigan Avenue, Chicago, Illinois 6...  \n",
       "67  3140 South Federal Street, Chicago, Illinois 6...  \n",
       "68  202 South Halsted Street, Chicago Heights, Ill...  \n",
       "69  3333 Green Bay Road, North Chicago, Illinois 6...  \n",
       "\n",
       "[70 rows x 2 columns]"
      ]
     },
     "execution_count": 18,
     "metadata": {},
     "output_type": "execute_result"
    }
   ],
   "source": [
    "chicago_colleges_df = il_colleges_df[il_colleges_df['Address'].str.contains('Chicago', case=False, na=False)]\n",
    "chicago_colleges_df = chicago_colleges_df[['Name', 'Address']].reset_index(drop=True)\n",
    "chicago_colleges_df"
   ]
  },
  {
   "cell_type": "code",
   "execution_count": 22,
   "metadata": {},
   "outputs": [
    {
     "name": "stdout",
     "output_type": "stream",
     "text": [
      "Updated/Cleaned database containing total Chicago universities: 70\n"
     ]
    }
   ],
   "source": [
    "print(f\"Updated/Cleaned database containing total Chicago universities: {len(chicago_colleges_df)}\")"
   ]
  },
  {
   "cell_type": "markdown",
   "metadata": {},
   "source": [
    "********************************************************************************************************************************************************\n",
    "**Chicago Rentals dataset**: The data for rentals was updated to include important columns like ['Price', 'Address', 'Listing URL', 'Short Address', 'Zip', 'Beds', 'Baths', 'Raw Property Details', 'Latitude', 'Longitude']. Then updated NaN values for Baths to 1.0. Noticed there were some undisclosed addresses. Since our goal is to provide students with apartment details, these were removed after noticing there were 70 rows that contained 'undisclosed Address'. Made sure baths and beds were in floats to maintain readability. Prices were converted from string to float in order to be able to make proper calculatios. (chicago_rentals_df)"
   ]
  },
  {
   "cell_type": "code",
   "execution_count": 195,
   "metadata": {},
   "outputs": [],
   "source": [
    "chicago_rentals_df = pd.read_csv(\"Zillow Rental (Chicago Area 03_03_2025).csv\")\n",
    "chicago_rentals_df = chicago_rentals_df[['Price', 'Address', 'Listing URL', 'Short Address', 'Zip', 'Beds', 'Baths', 'Raw Property Details', 'Latitude', 'Longitude']].reset_index(drop=True)"
   ]
  },
  {
   "cell_type": "code",
   "execution_count": 197,
   "metadata": {},
   "outputs": [],
   "source": [
    "# Keep Beds and Baths as floats, cleaned NaN baths\n",
    "chicago_rentals_df['Baths'] = chicago_rentals_df['Baths'].fillna(1)\n",
    "chicago_rentals_df['Beds'] = chicago_rentals_df['Beds'].astype(float)"
   ]
  },
  {
   "cell_type": "code",
   "execution_count": 199,
   "metadata": {},
   "outputs": [
    {
     "name": "stdout",
     "output_type": "stream",
     "text": [
      "Undisclosed address count: 70\n"
     ]
    }
   ],
   "source": [
    "# Check how many undisclosed addresses within dataset\n",
    "undisclosed_count = chicago_rentals_df[chicago_rentals_df['Short Address'] == '(undisclosed Address)'].shape[0]\n",
    "print(f\"Undisclosed address count: {undisclosed_count}\")"
   ]
  },
  {
   "cell_type": "code",
   "execution_count": 201,
   "metadata": {},
   "outputs": [
    {
     "data": {
      "text/html": [
       "<div>\n",
       "<style scoped>\n",
       "    .dataframe tbody tr th:only-of-type {\n",
       "        vertical-align: middle;\n",
       "    }\n",
       "\n",
       "    .dataframe tbody tr th {\n",
       "        vertical-align: top;\n",
       "    }\n",
       "\n",
       "    .dataframe thead th {\n",
       "        text-align: right;\n",
       "    }\n",
       "</style>\n",
       "<table border=\"1\" class=\"dataframe\">\n",
       "  <thead>\n",
       "    <tr style=\"text-align: right;\">\n",
       "      <th></th>\n",
       "      <th>Price</th>\n",
       "      <th>Address</th>\n",
       "      <th>Listing URL</th>\n",
       "      <th>Short Address</th>\n",
       "      <th>Zip</th>\n",
       "      <th>Beds</th>\n",
       "      <th>Baths</th>\n",
       "      <th>Raw Property Details</th>\n",
       "      <th>Latitude</th>\n",
       "      <th>Longitude</th>\n",
       "    </tr>\n",
       "  </thead>\n",
       "  <tbody>\n",
       "    <tr>\n",
       "      <th>0</th>\n",
       "      <td>532.0</td>\n",
       "      <td>4713 N Western Ave, Chicago, IL 60625</td>\n",
       "      <td>https://zillow.com//apartments/chicago-il/canv...</td>\n",
       "      <td>4713 N  Western Ave # 302</td>\n",
       "      <td>60625</td>\n",
       "      <td>0.0</td>\n",
       "      <td>1.0</td>\n",
       "      <td>Studio</td>\n",
       "      <td>41.967130</td>\n",
       "      <td>-87.688545</td>\n",
       "    </tr>\n",
       "    <tr>\n",
       "      <th>1</th>\n",
       "      <td>600.0</td>\n",
       "      <td>6340 S Eberhart Ave #1, Chicago, IL 60637</td>\n",
       "      <td>https://www.zillow.com/homedetails/6340-S-Eber...</td>\n",
       "      <td>6340 S Eberhart Ave #1</td>\n",
       "      <td>60637</td>\n",
       "      <td>3.0</td>\n",
       "      <td>1.0</td>\n",
       "      <td>3 bds | 1 ba | 1000 sqft</td>\n",
       "      <td>41.779083</td>\n",
       "      <td>-87.613525</td>\n",
       "    </tr>\n",
       "    <tr>\n",
       "      <th>2</th>\n",
       "      <td>639.0</td>\n",
       "      <td>Ferdinand, 5412 W Ferdinand St, Chicago, IL 60644</td>\n",
       "      <td>https://www.zillow.com/apartments/chicago-il/f...</td>\n",
       "      <td>5412 W Ferdinand St #573B2222C</td>\n",
       "      <td>60644</td>\n",
       "      <td>0.0</td>\n",
       "      <td>1.0</td>\n",
       "      <td>Studio | 1 ba | 400 sqft</td>\n",
       "      <td>41.889187</td>\n",
       "      <td>-87.761024</td>\n",
       "    </tr>\n",
       "    <tr>\n",
       "      <th>3</th>\n",
       "      <td>650.0</td>\n",
       "      <td>6115 S Drexel Ave #1, Chicago, IL 60637</td>\n",
       "      <td>https://www.zillow.com/homedetails/6115-S-Drex...</td>\n",
       "      <td>6115 S Drexel Ave #1</td>\n",
       "      <td>60637</td>\n",
       "      <td>1.0</td>\n",
       "      <td>1.0</td>\n",
       "      <td>1 bds | 1 ba</td>\n",
       "      <td>41.783596</td>\n",
       "      <td>-87.603920</td>\n",
       "    </tr>\n",
       "    <tr>\n",
       "      <th>4</th>\n",
       "      <td>650.0</td>\n",
       "      <td>158 N Central Ave, Chicago, IL 60644</td>\n",
       "      <td>https://www.zillow.com/homedetails/158-N-Centr...</td>\n",
       "      <td>158 N Central Ave</td>\n",
       "      <td>60644</td>\n",
       "      <td>0.0</td>\n",
       "      <td>1.0</td>\n",
       "      <td>Studio | 1 ba</td>\n",
       "      <td>41.883904</td>\n",
       "      <td>-87.765465</td>\n",
       "    </tr>\n",
       "    <tr>\n",
       "      <th>...</th>\n",
       "      <td>...</td>\n",
       "      <td>...</td>\n",
       "      <td>...</td>\n",
       "      <td>...</td>\n",
       "      <td>...</td>\n",
       "      <td>...</td>\n",
       "      <td>...</td>\n",
       "      <td>...</td>\n",
       "      <td>...</td>\n",
       "      <td>...</td>\n",
       "    </tr>\n",
       "    <tr>\n",
       "      <th>2726</th>\n",
       "      <td>1750.0</td>\n",
       "      <td>4056 N Leamington Ave #2R, Chicago, IL 60641</td>\n",
       "      <td>https://www.zillow.com/homedetails/4056-N-Leam...</td>\n",
       "      <td>4056 N Leamington Ave #2R</td>\n",
       "      <td>60641</td>\n",
       "      <td>1.0</td>\n",
       "      <td>1.0</td>\n",
       "      <td>1 bds | 1 ba | 900 sqft</td>\n",
       "      <td>41.954990</td>\n",
       "      <td>-87.756325</td>\n",
       "    </tr>\n",
       "    <tr>\n",
       "      <th>2727</th>\n",
       "      <td>1750.0</td>\n",
       "      <td>3903 W Belden Ave #2, Chicago, IL 60647</td>\n",
       "      <td>https://www.zillow.com/homedetails/3903-W-Beld...</td>\n",
       "      <td>3903 W Belden Ave #2</td>\n",
       "      <td>60647</td>\n",
       "      <td>2.0</td>\n",
       "      <td>1.0</td>\n",
       "      <td>2 bds | 1 ba | 700 sqft</td>\n",
       "      <td>41.922546</td>\n",
       "      <td>-87.724594</td>\n",
       "    </tr>\n",
       "    <tr>\n",
       "      <th>2728</th>\n",
       "      <td>1750.0</td>\n",
       "      <td>5123 S Indiana Ave #3, Chicago, IL 60615</td>\n",
       "      <td>https://www.zillow.com/homedetails/5123-S-Indi...</td>\n",
       "      <td>5123 S Indiana Ave #3</td>\n",
       "      <td>60615</td>\n",
       "      <td>3.0</td>\n",
       "      <td>1.0</td>\n",
       "      <td>3 bds | 1 ba | 1500 sqft</td>\n",
       "      <td>41.801254</td>\n",
       "      <td>-87.620570</td>\n",
       "    </tr>\n",
       "    <tr>\n",
       "      <th>2729</th>\n",
       "      <td>1750.0</td>\n",
       "      <td>2653 N Harding Ave, Chicago, IL 60647</td>\n",
       "      <td>https://www.zillow.com/homedetails/2653-N-Hard...</td>\n",
       "      <td>2653 N Harding Ave</td>\n",
       "      <td>60647</td>\n",
       "      <td>2.0</td>\n",
       "      <td>1.0</td>\n",
       "      <td>2 bds | 1 ba</td>\n",
       "      <td>41.929714</td>\n",
       "      <td>-87.725480</td>\n",
       "    </tr>\n",
       "    <tr>\n",
       "      <th>2730</th>\n",
       "      <td>1750.0</td>\n",
       "      <td>649 E Marquette Rd, Chicago, IL 60637</td>\n",
       "      <td>https://zillow.com//b/marquette-649-e-chicago-...</td>\n",
       "      <td>649 E  Marquette Rd   Apt 3</td>\n",
       "      <td>60637</td>\n",
       "      <td>4.0</td>\n",
       "      <td>1.0</td>\n",
       "      <td>4 bds</td>\n",
       "      <td>41.774788</td>\n",
       "      <td>-87.608600</td>\n",
       "    </tr>\n",
       "  </tbody>\n",
       "</table>\n",
       "<p>2731 rows × 10 columns</p>\n",
       "</div>"
      ],
      "text/plain": [
       "       Price                                            Address  \\\n",
       "0      532.0              4713 N Western Ave, Chicago, IL 60625   \n",
       "1      600.0          6340 S Eberhart Ave #1, Chicago, IL 60637   \n",
       "2      639.0  Ferdinand, 5412 W Ferdinand St, Chicago, IL 60644   \n",
       "3      650.0            6115 S Drexel Ave #1, Chicago, IL 60637   \n",
       "4      650.0               158 N Central Ave, Chicago, IL 60644   \n",
       "...      ...                                                ...   \n",
       "2726  1750.0       4056 N Leamington Ave #2R, Chicago, IL 60641   \n",
       "2727  1750.0            3903 W Belden Ave #2, Chicago, IL 60647   \n",
       "2728  1750.0           5123 S Indiana Ave #3, Chicago, IL 60615   \n",
       "2729  1750.0              2653 N Harding Ave, Chicago, IL 60647   \n",
       "2730  1750.0              649 E Marquette Rd, Chicago, IL 60637   \n",
       "\n",
       "                                            Listing URL  \\\n",
       "0     https://zillow.com//apartments/chicago-il/canv...   \n",
       "1     https://www.zillow.com/homedetails/6340-S-Eber...   \n",
       "2     https://www.zillow.com/apartments/chicago-il/f...   \n",
       "3     https://www.zillow.com/homedetails/6115-S-Drex...   \n",
       "4     https://www.zillow.com/homedetails/158-N-Centr...   \n",
       "...                                                 ...   \n",
       "2726  https://www.zillow.com/homedetails/4056-N-Leam...   \n",
       "2727  https://www.zillow.com/homedetails/3903-W-Beld...   \n",
       "2728  https://www.zillow.com/homedetails/5123-S-Indi...   \n",
       "2729  https://www.zillow.com/homedetails/2653-N-Hard...   \n",
       "2730  https://zillow.com//b/marquette-649-e-chicago-...   \n",
       "\n",
       "                       Short Address    Zip  Beds  Baths  \\\n",
       "0          4713 N  Western Ave # 302  60625   0.0    1.0   \n",
       "1             6340 S Eberhart Ave #1  60637   3.0    1.0   \n",
       "2     5412 W Ferdinand St #573B2222C  60644   0.0    1.0   \n",
       "3               6115 S Drexel Ave #1  60637   1.0    1.0   \n",
       "4                  158 N Central Ave  60644   0.0    1.0   \n",
       "...                              ...    ...   ...    ...   \n",
       "2726       4056 N Leamington Ave #2R  60641   1.0    1.0   \n",
       "2727            3903 W Belden Ave #2  60647   2.0    1.0   \n",
       "2728           5123 S Indiana Ave #3  60615   3.0    1.0   \n",
       "2729              2653 N Harding Ave  60647   2.0    1.0   \n",
       "2730     649 E  Marquette Rd   Apt 3  60637   4.0    1.0   \n",
       "\n",
       "          Raw Property Details   Latitude  Longitude  \n",
       "0                      Studio   41.967130 -87.688545  \n",
       "1     3 bds | 1 ba | 1000 sqft  41.779083 -87.613525  \n",
       "2     Studio | 1 ba | 400 sqft  41.889187 -87.761024  \n",
       "3                1 bds | 1 ba   41.783596 -87.603920  \n",
       "4               Studio | 1 ba   41.883904 -87.765465  \n",
       "...                        ...        ...        ...  \n",
       "2726   1 bds | 1 ba | 900 sqft  41.954990 -87.756325  \n",
       "2727   2 bds | 1 ba | 700 sqft  41.922546 -87.724594  \n",
       "2728  3 bds | 1 ba | 1500 sqft  41.801254 -87.620570  \n",
       "2729             2 bds | 1 ba   41.929714 -87.725480  \n",
       "2730                    4 bds   41.774788 -87.608600  \n",
       "\n",
       "[2731 rows x 10 columns]"
      ]
     },
     "execution_count": 201,
     "metadata": {},
     "output_type": "execute_result"
    }
   ],
   "source": [
    "# Dropped undisclosed Address from database so left with 2731 rows.\n",
    "chicago_rentals_df = chicago_rentals_df[chicago_rentals_df['Short Address'] != '(undisclosed Address)'].reset_index(drop=True)\n",
    "\n",
    "# Cleaned Price column to show as type int\n",
    "chicago_rentals_df['Price'] = (\n",
    "    chicago_rentals_df['Price']\n",
    "    .str.replace('$', '', regex=False)\n",
    "    .str.replace(',', '', regex=False)\n",
    "    .str.strip()\n",
    ")\n",
    "\n",
    "chicago_rentals_df['Price'] = pd.to_numeric(chicago_rentals_df['Price'], errors='coerce')\n",
    "chicago_rentals_df['Price'] = chicago_rentals_df['Price'].astype(float)\n",
    "\n",
    "chicago_rentals_df"
   ]
  },
  {
   "cell_type": "markdown",
   "metadata": {},
   "source": [
    "********************************************************************************************************************************************************\n",
    "**Divvy Bicycle Stations dataset**: A dataset of the stations where one can pick up and return bicycles from the Divvy bicycle sharing system. Contains only the columns necessary ['Station Name', 'Latitude', 'Longitude', 'Location']. (divvy_stations_df)"
   ]
  },
  {
   "cell_type": "code",
   "execution_count": 32,
   "metadata": {},
   "outputs": [
    {
     "data": {
      "text/html": [
       "<div>\n",
       "<style scoped>\n",
       "    .dataframe tbody tr th:only-of-type {\n",
       "        vertical-align: middle;\n",
       "    }\n",
       "\n",
       "    .dataframe tbody tr th {\n",
       "        vertical-align: top;\n",
       "    }\n",
       "\n",
       "    .dataframe thead th {\n",
       "        text-align: right;\n",
       "    }\n",
       "</style>\n",
       "<table border=\"1\" class=\"dataframe\">\n",
       "  <thead>\n",
       "    <tr style=\"text-align: right;\">\n",
       "      <th></th>\n",
       "      <th>Station Name</th>\n",
       "      <th>Latitude</th>\n",
       "      <th>Longitude</th>\n",
       "      <th>Location</th>\n",
       "    </tr>\n",
       "  </thead>\n",
       "  <tbody>\n",
       "    <tr>\n",
       "      <th>0</th>\n",
       "      <td>Damen Ave &amp; Charleston St</td>\n",
       "      <td>41.920082</td>\n",
       "      <td>-87.677855</td>\n",
       "      <td>POINT (-87.677855 41.920082)</td>\n",
       "    </tr>\n",
       "    <tr>\n",
       "      <th>1</th>\n",
       "      <td>Laramie Ave &amp; Kinzie St</td>\n",
       "      <td>41.887832</td>\n",
       "      <td>-87.755527</td>\n",
       "      <td>POINT (-87.755527 41.887832)</td>\n",
       "    </tr>\n",
       "    <tr>\n",
       "      <th>2</th>\n",
       "      <td>Warren Park West</td>\n",
       "      <td>42.001785</td>\n",
       "      <td>-87.688829</td>\n",
       "      <td>POINT (-87.688829 42.001785)</td>\n",
       "    </tr>\n",
       "    <tr>\n",
       "      <th>3</th>\n",
       "      <td>Lockwood Ave &amp; Wrightwood Ave</td>\n",
       "      <td>41.927766</td>\n",
       "      <td>-87.758544</td>\n",
       "      <td>POINT (-87.758544 41.927766)</td>\n",
       "    </tr>\n",
       "    <tr>\n",
       "      <th>4</th>\n",
       "      <td>California Ave &amp; Cortez St</td>\n",
       "      <td>41.900363</td>\n",
       "      <td>-87.696704</td>\n",
       "      <td>POINT (-87.696704 41.900363)</td>\n",
       "    </tr>\n",
       "    <tr>\n",
       "      <th>...</th>\n",
       "      <td>...</td>\n",
       "      <td>...</td>\n",
       "      <td>...</td>\n",
       "      <td>...</td>\n",
       "    </tr>\n",
       "    <tr>\n",
       "      <th>1044</th>\n",
       "      <td>Damen Ave &amp; Chicago Ave</td>\n",
       "      <td>41.895687</td>\n",
       "      <td>-87.677135</td>\n",
       "      <td>POINT (-87.677135082864 41.895687370534)</td>\n",
       "    </tr>\n",
       "    <tr>\n",
       "      <th>1045</th>\n",
       "      <td>Morgan St &amp; Lake St*</td>\n",
       "      <td>41.885492</td>\n",
       "      <td>-87.652289</td>\n",
       "      <td>POINT (-87.652289271355 41.885491706269)</td>\n",
       "    </tr>\n",
       "    <tr>\n",
       "      <th>1046</th>\n",
       "      <td>Major Taylor Trail &amp; 115th St</td>\n",
       "      <td>41.684932</td>\n",
       "      <td>-87.645289</td>\n",
       "      <td>POINT (-87.645288705826 41.684931595193)</td>\n",
       "    </tr>\n",
       "    <tr>\n",
       "      <th>1047</th>\n",
       "      <td>Sedgwick St &amp; Schiller St</td>\n",
       "      <td>41.907626</td>\n",
       "      <td>-87.638566</td>\n",
       "      <td>POINT (-87.638566 41.907626)</td>\n",
       "    </tr>\n",
       "    <tr>\n",
       "      <th>1048</th>\n",
       "      <td>Burnham Harbor</td>\n",
       "      <td>41.857412</td>\n",
       "      <td>-87.613792</td>\n",
       "      <td>POINT (-87.613791525364 41.857411787074)</td>\n",
       "    </tr>\n",
       "  </tbody>\n",
       "</table>\n",
       "<p>1049 rows × 4 columns</p>\n",
       "</div>"
      ],
      "text/plain": [
       "                       Station Name   Latitude  Longitude  \\\n",
       "0         Damen Ave & Charleston St  41.920082 -87.677855   \n",
       "1           Laramie Ave & Kinzie St  41.887832 -87.755527   \n",
       "2                  Warren Park West  42.001785 -87.688829   \n",
       "3     Lockwood Ave & Wrightwood Ave  41.927766 -87.758544   \n",
       "4        California Ave & Cortez St  41.900363 -87.696704   \n",
       "...                             ...        ...        ...   \n",
       "1044        Damen Ave & Chicago Ave  41.895687 -87.677135   \n",
       "1045           Morgan St & Lake St*  41.885492 -87.652289   \n",
       "1046  Major Taylor Trail & 115th St  41.684932 -87.645289   \n",
       "1047      Sedgwick St & Schiller St  41.907626 -87.638566   \n",
       "1048                 Burnham Harbor  41.857412 -87.613792   \n",
       "\n",
       "                                      Location  \n",
       "0                 POINT (-87.677855 41.920082)  \n",
       "1                 POINT (-87.755527 41.887832)  \n",
       "2                 POINT (-87.688829 42.001785)  \n",
       "3                 POINT (-87.758544 41.927766)  \n",
       "4                 POINT (-87.696704 41.900363)  \n",
       "...                                        ...  \n",
       "1044  POINT (-87.677135082864 41.895687370534)  \n",
       "1045  POINT (-87.652289271355 41.885491706269)  \n",
       "1046  POINT (-87.645288705826 41.684931595193)  \n",
       "1047              POINT (-87.638566 41.907626)  \n",
       "1048  POINT (-87.613791525364 41.857411787074)  \n",
       "\n",
       "[1049 rows x 4 columns]"
      ]
     },
     "execution_count": 32,
     "metadata": {},
     "output_type": "execute_result"
    }
   ],
   "source": [
    "divvy_stations_df = pd.read_csv(\"Divvy_Bicycle_Stations_20250405.csv\")\n",
    "divvy_stations_df = divvy_stations_df[['Station Name', 'Latitude', 'Longitude', 'Location']]\n",
    "divvy_stations_df"
   ]
  },
  {
   "cell_type": "markdown",
   "metadata": {},
   "source": [
    "********************************************************************************************************************************************************\n",
    "**CTA Bus Routes dataset**: MultiLineString containing (longitude, latitude) bus routes. Contains columns like [['the_geom', 'ROUTE', 'NAME']] for each bus route. 'the_geom' contain the MultiLineString bus route (longitude, latitude). (bus_routes_df)"
   ]
  },
  {
   "cell_type": "code",
   "execution_count": 34,
   "metadata": {},
   "outputs": [
    {
     "data": {
      "text/html": [
       "<div>\n",
       "<style scoped>\n",
       "    .dataframe tbody tr th:only-of-type {\n",
       "        vertical-align: middle;\n",
       "    }\n",
       "\n",
       "    .dataframe tbody tr th {\n",
       "        vertical-align: top;\n",
       "    }\n",
       "\n",
       "    .dataframe thead th {\n",
       "        text-align: right;\n",
       "    }\n",
       "</style>\n",
       "<table border=\"1\" class=\"dataframe\">\n",
       "  <thead>\n",
       "    <tr style=\"text-align: right;\">\n",
       "      <th></th>\n",
       "      <th>the_geom</th>\n",
       "      <th>ROUTE</th>\n",
       "      <th>NAME</th>\n",
       "    </tr>\n",
       "  </thead>\n",
       "  <tbody>\n",
       "    <tr>\n",
       "      <th>0</th>\n",
       "      <td>MULTILINESTRING ((-87.75480000023407 41.872929...</td>\n",
       "      <td>57</td>\n",
       "      <td>LARAMIE</td>\n",
       "    </tr>\n",
       "    <tr>\n",
       "      <th>1</th>\n",
       "      <td>MULTILINESTRING ((-87.59423000074659 41.707640...</td>\n",
       "      <td>106</td>\n",
       "      <td>EAST 103RD</td>\n",
       "    </tr>\n",
       "    <tr>\n",
       "      <th>2</th>\n",
       "      <td>MULTILINESTRING ((-87.6392400000517 41.8672499...</td>\n",
       "      <td>192</td>\n",
       "      <td>U OF CHICAGO HOSPITALS EXPRESS</td>\n",
       "    </tr>\n",
       "    <tr>\n",
       "      <th>3</th>\n",
       "      <td>MULTILINESTRING ((-87.74620000001498 41.749049...</td>\n",
       "      <td>2</td>\n",
       "      <td>HYDE PARK EXPRESS</td>\n",
       "    </tr>\n",
       "    <tr>\n",
       "      <th>4</th>\n",
       "      <td>MULTILINESTRING ((-87.64790999981973 41.867129...</td>\n",
       "      <td>12</td>\n",
       "      <td>ROOSEVELT</td>\n",
       "    </tr>\n",
       "    <tr>\n",
       "      <th>...</th>\n",
       "      <td>...</td>\n",
       "      <td>...</td>\n",
       "      <td>...</td>\n",
       "    </tr>\n",
       "    <tr>\n",
       "      <th>122</th>\n",
       "      <td>MULTILINESTRING ((-87.62449999918586 41.888329...</td>\n",
       "      <td>120</td>\n",
       "      <td>OGILVIE/STREETERVILLE EXPRESS</td>\n",
       "    </tr>\n",
       "    <tr>\n",
       "      <th>123</th>\n",
       "      <td>MULTILINESTRING ((-87.77390000023009 41.876470...</td>\n",
       "      <td>126</td>\n",
       "      <td>JACKSON</td>\n",
       "    </tr>\n",
       "    <tr>\n",
       "      <th>124</th>\n",
       "      <td>MULTILINESTRING ((-87.77390694614428 41.880080...</td>\n",
       "      <td>20</td>\n",
       "      <td>MADISON</td>\n",
       "    </tr>\n",
       "    <tr>\n",
       "      <th>125</th>\n",
       "      <td>MULTILINESTRING ((-87.61698999997792 41.865019...</td>\n",
       "      <td>128</td>\n",
       "      <td>SOLDIER FIELD EXPRESS</td>\n",
       "    </tr>\n",
       "    <tr>\n",
       "      <th>126</th>\n",
       "      <td>MULTILINESTRING ((-87.63969000080748 41.881870...</td>\n",
       "      <td>124</td>\n",
       "      <td>NAVY PIER</td>\n",
       "    </tr>\n",
       "  </tbody>\n",
       "</table>\n",
       "<p>127 rows × 3 columns</p>\n",
       "</div>"
      ],
      "text/plain": [
       "                                              the_geom ROUTE  \\\n",
       "0    MULTILINESTRING ((-87.75480000023407 41.872929...    57   \n",
       "1    MULTILINESTRING ((-87.59423000074659 41.707640...   106   \n",
       "2    MULTILINESTRING ((-87.6392400000517 41.8672499...   192   \n",
       "3    MULTILINESTRING ((-87.74620000001498 41.749049...     2   \n",
       "4    MULTILINESTRING ((-87.64790999981973 41.867129...    12   \n",
       "..                                                 ...   ...   \n",
       "122  MULTILINESTRING ((-87.62449999918586 41.888329...   120   \n",
       "123  MULTILINESTRING ((-87.77390000023009 41.876470...   126   \n",
       "124  MULTILINESTRING ((-87.77390694614428 41.880080...    20   \n",
       "125  MULTILINESTRING ((-87.61698999997792 41.865019...   128   \n",
       "126  MULTILINESTRING ((-87.63969000080748 41.881870...   124   \n",
       "\n",
       "                               NAME  \n",
       "0                           LARAMIE  \n",
       "1                        EAST 103RD  \n",
       "2    U OF CHICAGO HOSPITALS EXPRESS  \n",
       "3                 HYDE PARK EXPRESS  \n",
       "4                         ROOSEVELT  \n",
       "..                              ...  \n",
       "122   OGILVIE/STREETERVILLE EXPRESS  \n",
       "123                         JACKSON  \n",
       "124                         MADISON  \n",
       "125           SOLDIER FIELD EXPRESS  \n",
       "126                       NAVY PIER  \n",
       "\n",
       "[127 rows x 3 columns]"
      ]
     },
     "execution_count": 34,
     "metadata": {},
     "output_type": "execute_result"
    }
   ],
   "source": [
    "bus_routes_df = pd.read_csv(\"CTA_-_Bus_Routes.csv\")\n",
    "bus_routes_df = bus_routes_df[['the_geom', 'ROUTE', 'NAME']]\n",
    "bus_routes_df"
   ]
  },
  {
   "cell_type": "markdown",
   "metadata": {},
   "source": [
    "********************************************************************************************************************************************************\n",
    "**CTA Train Routes dataset**: This list of 'L' stops provides location and basic service availability information for each place on the CTA system where a train stops, along with formal station names and stop descriptions. (train_routes_filtered)"
   ]
  },
  {
   "cell_type": "code",
   "execution_count": 36,
   "metadata": {},
   "outputs": [
    {
     "data": {
      "text/html": [
       "<div>\n",
       "<style scoped>\n",
       "    .dataframe tbody tr th:only-of-type {\n",
       "        vertical-align: middle;\n",
       "    }\n",
       "\n",
       "    .dataframe tbody tr th {\n",
       "        vertical-align: top;\n",
       "    }\n",
       "\n",
       "    .dataframe thead th {\n",
       "        text-align: right;\n",
       "    }\n",
       "</style>\n",
       "<table border=\"1\" class=\"dataframe\">\n",
       "  <thead>\n",
       "    <tr style=\"text-align: right;\">\n",
       "      <th></th>\n",
       "      <th>DIRECTION_ID</th>\n",
       "      <th>STOP_NAME</th>\n",
       "      <th>STATION_NAME</th>\n",
       "      <th>STATION_DESCRIPTIVE_NAME</th>\n",
       "      <th>ADA</th>\n",
       "      <th>RED</th>\n",
       "      <th>BLUE</th>\n",
       "      <th>G</th>\n",
       "      <th>BRN</th>\n",
       "      <th>P</th>\n",
       "      <th>Pexp</th>\n",
       "      <th>Y</th>\n",
       "      <th>Pnk</th>\n",
       "      <th>O</th>\n",
       "      <th>Location</th>\n",
       "    </tr>\n",
       "  </thead>\n",
       "  <tbody>\n",
       "    <tr>\n",
       "      <th>0</th>\n",
       "      <td>E</td>\n",
       "      <td>Cicero (Loop-bound)</td>\n",
       "      <td>Cicero</td>\n",
       "      <td>Cicero (Pink Line)</td>\n",
       "      <td>1</td>\n",
       "      <td>0</td>\n",
       "      <td>0</td>\n",
       "      <td>0</td>\n",
       "      <td>0</td>\n",
       "      <td>0</td>\n",
       "      <td>0</td>\n",
       "      <td>0</td>\n",
       "      <td>1</td>\n",
       "      <td>0</td>\n",
       "      <td>(41.85182, -87.745336)</td>\n",
       "    </tr>\n",
       "    <tr>\n",
       "      <th>1</th>\n",
       "      <td>E</td>\n",
       "      <td>Central Park (Loop-bound)</td>\n",
       "      <td>Central Park</td>\n",
       "      <td>Central Park (Pink Line)</td>\n",
       "      <td>1</td>\n",
       "      <td>0</td>\n",
       "      <td>0</td>\n",
       "      <td>0</td>\n",
       "      <td>0</td>\n",
       "      <td>0</td>\n",
       "      <td>0</td>\n",
       "      <td>0</td>\n",
       "      <td>1</td>\n",
       "      <td>0</td>\n",
       "      <td>(41.853839, -87.714842)</td>\n",
       "    </tr>\n",
       "    <tr>\n",
       "      <th>2</th>\n",
       "      <td>W</td>\n",
       "      <td>Halsted/63rd (Ashland-bound)</td>\n",
       "      <td>Halsted</td>\n",
       "      <td>Halsted (Green Line)</td>\n",
       "      <td>1</td>\n",
       "      <td>0</td>\n",
       "      <td>0</td>\n",
       "      <td>1</td>\n",
       "      <td>0</td>\n",
       "      <td>0</td>\n",
       "      <td>0</td>\n",
       "      <td>0</td>\n",
       "      <td>0</td>\n",
       "      <td>0</td>\n",
       "      <td>(41.778943, -87.644244)</td>\n",
       "    </tr>\n",
       "    <tr>\n",
       "      <th>3</th>\n",
       "      <td>N</td>\n",
       "      <td>Cumberland (O'Hare-bound)</td>\n",
       "      <td>Cumberland</td>\n",
       "      <td>Cumberland (Blue Line)</td>\n",
       "      <td>1</td>\n",
       "      <td>0</td>\n",
       "      <td>1</td>\n",
       "      <td>0</td>\n",
       "      <td>0</td>\n",
       "      <td>0</td>\n",
       "      <td>0</td>\n",
       "      <td>0</td>\n",
       "      <td>0</td>\n",
       "      <td>0</td>\n",
       "      <td>(41.984246, -87.838028)</td>\n",
       "    </tr>\n",
       "    <tr>\n",
       "      <th>4</th>\n",
       "      <td>E</td>\n",
       "      <td>Racine (O'Hare-bound)</td>\n",
       "      <td>Racine</td>\n",
       "      <td>Racine (Blue Line)</td>\n",
       "      <td>0</td>\n",
       "      <td>0</td>\n",
       "      <td>1</td>\n",
       "      <td>0</td>\n",
       "      <td>0</td>\n",
       "      <td>0</td>\n",
       "      <td>0</td>\n",
       "      <td>0</td>\n",
       "      <td>0</td>\n",
       "      <td>0</td>\n",
       "      <td>(41.87592, -87.659458)</td>\n",
       "    </tr>\n",
       "  </tbody>\n",
       "</table>\n",
       "</div>"
      ],
      "text/plain": [
       "  DIRECTION_ID                     STOP_NAME  STATION_NAME  \\\n",
       "0            E           Cicero (Loop-bound)        Cicero   \n",
       "1            E     Central Park (Loop-bound)  Central Park   \n",
       "2            W  Halsted/63rd (Ashland-bound)       Halsted   \n",
       "3            N     Cumberland (O'Hare-bound)    Cumberland   \n",
       "4            E         Racine (O'Hare-bound)        Racine   \n",
       "\n",
       "   STATION_DESCRIPTIVE_NAME  ADA  RED  BLUE  G  BRN  P  Pexp  Y  Pnk  O  \\\n",
       "0        Cicero (Pink Line)    1    0     0  0    0  0     0  0    1  0   \n",
       "1  Central Park (Pink Line)    1    0     0  0    0  0     0  0    1  0   \n",
       "2      Halsted (Green Line)    1    0     0  1    0  0     0  0    0  0   \n",
       "3    Cumberland (Blue Line)    1    0     1  0    0  0     0  0    0  0   \n",
       "4        Racine (Blue Line)    0    0     1  0    0  0     0  0    0  0   \n",
       "\n",
       "                  Location  \n",
       "0   (41.85182, -87.745336)  \n",
       "1  (41.853839, -87.714842)  \n",
       "2  (41.778943, -87.644244)  \n",
       "3  (41.984246, -87.838028)  \n",
       "4   (41.87592, -87.659458)  "
      ]
     },
     "execution_count": 36,
     "metadata": {},
     "output_type": "execute_result"
    }
   ],
   "source": [
    "train_routes_df = pd.read_csv(\"CTA_-_System_Information_-_List_of__L__Stops_20250405.csv\")\n",
    "\n",
    "# Convert to type int\n",
    "cols_to_convert = ['ADA', 'RED', 'BLUE', 'G', 'BRN', 'P', 'Pexp', 'Y', 'Pnk', 'O']\n",
    "train_routes_df[cols_to_convert] = train_routes_df[cols_to_convert].astype(int)\n",
    "\n",
    "# Dropped STOP_ID and MAP_ID\n",
    "train_routes_filtered = train_routes_df.drop(columns=['STOP_ID', 'MAP_ID'])\n",
    "train_routes_filtered.head()"
   ]
  },
  {
   "attachments": {},
   "cell_type": "markdown",
   "metadata": {},
   "source": [
    "# Exploratory Data Analysis"
   ]
  },
  {
   "cell_type": "markdown",
   "metadata": {},
   "source": [
    "**What are the price distributions for available rentals in Chicago?** Most rental listings in the rental dataset fall between 1475 and 1650, which is shown below by looking at the tallest bars. This means that most rentals that are available in Chicago are at the upper end of a typical student's budget. The rental market at the moment heavily favors listings above $1200. This means that low cost options may be limited or harder to find. For higher priced rentals, a student may consider splitting the cost with roomates."
   ]
  },
  {
   "cell_type": "code",
   "execution_count": 262,
   "metadata": {},
   "outputs": [
    {
     "data": {
      "image/png": "[encoded data removed]",
      "text/plain": [
       "<Figure size 1200x600 with 1 Axes>"
      ]
     },
     "metadata": {},
     "output_type": "display_data"
    }
   ],
   "source": [
    "plt.figure(figsize=(12, 6))\n",
    "sns.histplot(chicago_rentals_df['Price'], kde=True)\n",
    "plt.title(\"Distribution of Rental Prices in Chicago\")\n",
    "plt.xlabel(\"Price ($)\")\n",
    "plt.ylabel(\"Count\")        # How many listings fall within $ range\n",
    "\n",
    "plt.yticks(ticks=np.arange(0, 325, 25))\n",
    "\n",
    "plt.xlim(0, 1750)\n",
    "plt.xticks(ticks=np.arange(0, 1750, 50), rotation=45)\n",
    "\n",
    "plt.show()"
   ]
  },
  {
   "cell_type": "code",
   "execution_count": 216,
   "metadata": {},
   "outputs": [
    {
     "name": "stdout",
     "output_type": "stream",
     "text": [
      "Min Price: $532.0\n",
      "Max Price: $1750.0\n"
     ]
    }
   ],
   "source": [
    "min_price = chicago_rentals_df['Price'].min()\n",
    "max_price = chicago_rentals_df['Price'].max()\n",
    "\n",
    "print(f\"Min Price: ${min_price}\")\n",
    "print(f\"Max Price: ${max_price}\")"
   ]
  },
  {
   "cell_type": "markdown",
   "metadata": {},
   "source": [
    "**What are the common bed listings?** Most common bed count in Chicago rentals are 1 and 2. There is also an increase of 0 bed count which means that the Chicago rental dataset contains about 600 studio apartments."
   ]
  },
  {
   "cell_type": "code",
   "execution_count": 307,
   "metadata": {},
   "outputs": [
    {
     "data": {
      "text/plain": [
       "Text(0, 0.5, 'Count')"
      ]
     },
     "execution_count": 307,
     "metadata": {},
     "output_type": "execute_result"
    },
    {
     "data": {
      "image/png": "[encoded data removed]",
      "text/plain": [
       "<Figure size 640x480 with 1 Axes>"
      ]
     },
     "metadata": {},
     "output_type": "display_data"
    }
   ],
   "source": [
    "chicago_rentals_df['Beds'].value_counts().sort_index().plot(\n",
    "    kind='bar',\n",
    "    title='Bed Count Distribution'\n",
    ")\n",
    "\n",
    "plt.yticks(ticks=np.arange(0, 1000, 100))\n",
    "\n",
    "plt.xlabel(\"Number of beds\")\n",
    "plt.ylabel(\"Count\")"
   ]
  },
  {
   "cell_type": "code",
   "execution_count": 311,
   "metadata": {},
   "outputs": [
    {
     "data": {
      "text/html": [
       "<div>\n",
       "<style scoped>\n",
       "    .dataframe tbody tr th:only-of-type {\n",
       "        vertical-align: middle;\n",
       "    }\n",
       "\n",
       "    .dataframe tbody tr th {\n",
       "        vertical-align: top;\n",
       "    }\n",
       "\n",
       "    .dataframe thead th {\n",
       "        text-align: right;\n",
       "    }\n",
       "</style>\n",
       "<table border=\"1\" class=\"dataframe\">\n",
       "  <thead>\n",
       "    <tr style=\"text-align: right;\">\n",
       "      <th></th>\n",
       "      <th>Number of Beds</th>\n",
       "      <th>Count</th>\n",
       "    </tr>\n",
       "  </thead>\n",
       "  <tbody>\n",
       "    <tr>\n",
       "      <th>0</th>\n",
       "      <td>0.0</td>\n",
       "      <td>630</td>\n",
       "    </tr>\n",
       "    <tr>\n",
       "      <th>1</th>\n",
       "      <td>1.0</td>\n",
       "      <td>892</td>\n",
       "    </tr>\n",
       "    <tr>\n",
       "      <th>2</th>\n",
       "      <td>2.0</td>\n",
       "      <td>868</td>\n",
       "    </tr>\n",
       "    <tr>\n",
       "      <th>3</th>\n",
       "      <td>3.0</td>\n",
       "      <td>290</td>\n",
       "    </tr>\n",
       "    <tr>\n",
       "      <th>4</th>\n",
       "      <td>4.0</td>\n",
       "      <td>44</td>\n",
       "    </tr>\n",
       "    <tr>\n",
       "      <th>5</th>\n",
       "      <td>5.0</td>\n",
       "      <td>6</td>\n",
       "    </tr>\n",
       "    <tr>\n",
       "      <th>6</th>\n",
       "      <td>6.0</td>\n",
       "      <td>1</td>\n",
       "    </tr>\n",
       "  </tbody>\n",
       "</table>\n",
       "</div>"
      ],
      "text/plain": [
       "   Number of Beds  Count\n",
       "0             0.0    630\n",
       "1             1.0    892\n",
       "2             2.0    868\n",
       "3             3.0    290\n",
       "4             4.0     44\n",
       "5             5.0      6\n",
       "6             6.0      1"
      ]
     },
     "metadata": {},
     "output_type": "display_data"
    }
   ],
   "source": [
    "bed_counts = chicago_rentals_df['Beds'].value_counts().sort_index()\n",
    "bed_counts_df = bed_counts.reset_index()\n",
    "bed_counts_df.columns = ['Number of Beds', 'Count']\n",
    "display(bed_counts_df)"
   ]
  },
  {
   "cell_type": "code",
   "execution_count": 316,
   "metadata": {},
   "outputs": [
    {
     "name": "stdout",
     "output_type": "stream",
     "text": [
      "Number of studio apartments: 630\n"
     ]
    }
   ],
   "source": [
    "# This proves that it is true the dataset contains 630 studio apartments.\n",
    "studio_count = chicago_rentals_df['Raw Property Details'].str.contains('studio', case=False, na=False).sum()\n",
    "print(f\"Number of studio apartments: {studio_count}\")"
   ]
  },
  {
   "cell_type": "markdown",
   "metadata": {},
   "source": [
    "# Visualizations"
   ]
  },
  {
   "cell_type": "markdown",
   "metadata": {},
   "source": [
    "Hypothesis: Rental prices in Chicago increase with the number of bedrooms in an apartment. (Cristal Martinez)\n",
    "\n",
    "When looking at the median price, it rises as the bed count increases, especially between 0 (studio), 1, 2, and 3 beds. Larger apartments tend to be more expensive, and there are fewer low priced options as the amount of bedrooms increase.\n",
    "\n",
    "Studio apartments have a wider price range when looking at the graph below. Rents for studios span from 500 up to $1750. This suggests that 1–3 bed units are most common. Outliers exists within 2 bed and 3 bed listings and shows that there are some listing that are cheaper than typical."
   ]
  },
  {
   "cell_type": "code",
   "execution_count": 318,
   "metadata": {},
   "outputs": [
    {
     "data": {
      "image/png": "[encoded data removed]",
      "text/plain": [
       "<Figure size 1200x600 with 1 Axes>"
      ]
     },
     "metadata": {},
     "output_type": "display_data"
    }
   ],
   "source": [
    "plt.figure(figsize=(12, 6))\n",
    "sns.boxplot(x='Beds', y='Price', data=chicago_rentals_df)\n",
    "\n",
    "plt.title(\"Rental Prices by Number of Beds\")\n",
    "plt.xlabel(\"Number of Beds\")\n",
    "plt.ylabel(\"Price ($)\")\n",
    "plt.show()"
   ]
  },
  {
   "cell_type": "markdown",
   "metadata": {
    "jp-MarkdownHeadingCollapsed": true
   },
   "source": [
    "# ML Analyses\n"
   ]
  },
  {
   "cell_type": "markdown",
   "metadata": {},
   "source": [
    "# Reflection"
   ]
  }
 ],
 "metadata": {
  "kernelspec": {
   "display_name": "Python [conda env:base] *",
   "language": "python",
   "name": "conda-base-py"
  },
  "language_info": {
   "codemirror_mode": {
    "name": "ipython",
    "version": 3
   },
   "file_extension": ".py",
   "mimetype": "text/x-python",
   "name": "python",
   "nbconvert_exporter": "python",
   "pygments_lexer": "ipython3",
   "version": "3.12.7"
  }
 },
 "nbformat": 4,
 "nbformat_minor": 4
}
